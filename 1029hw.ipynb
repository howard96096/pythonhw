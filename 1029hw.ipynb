{
 "cells": [
  {
   "cell_type": "code",
   "execution_count": 6,
   "metadata": {},
   "outputs": [
    {
     "name": "stdout",
     "output_type": "stream",
     "text": [
      "Enter the height:25\n",
      "Enter the width:4\n",
      "25\n",
      "4\n",
      "Area=100.00\n",
      "Perimeter=58.00\n"
     ]
    }
   ],
   "source": [
    "height=eval(input('Enter the height:'))\n",
    "width=eval(input('Enter the width:'))\n",
    "area=height*width\n",
    "perimeter=2*height+2*width\n",
    "print(height)\n",
    "print(width)\n",
    "print('Area=%.2f'%(area))\n",
    "print('Perimeter=%.2f'%(perimeter))"
   ]
  },
  {
   "cell_type": "code",
   "execution_count": 5,
   "metadata": {},
   "outputs": [
    {
     "name": "stdout",
     "output_type": "stream",
     "text": [
      "Enter the Side length of regular triangle:10\n",
      "Height=8.66\n",
      "Area=43.30\n"
     ]
    }
   ],
   "source": [
    "S=eval(input('Enter the Side length of regular triangle:'))\n",
    "import math\n",
    "height=(math.sqrt(3)/2*S)\n",
    "area=(math.sqrt(3)/4*(S**2))\n",
    "print('Height=%.2f'%(height))\n",
    "print('Area=%.2f'%(area))"
   ]
  },
  {
   "cell_type": "code",
   "execution_count": 8,
   "metadata": {},
   "outputs": [
    {
     "name": "stdout",
     "output_type": "stream",
     "text": [
      "Enter the min:30\n",
      "Enter the sec:60\n",
      "Enter the km:2\n",
      "Speed=1.88\n"
     ]
    }
   ],
   "source": [
    "x=eval(input('Enter the min:'))\n",
    "y=eval(input('Enter the sec:'))\n",
    "z=eval(input('Enter the km:'))\n",
    "Miles=z/1.6\n",
    "hour=x/60+y/360\n",
    "speed=z/1.6/(x/60+y/360)\n",
    "print('Speed=%.2f'%(speed))"
   ]
  },
  {
   "cell_type": "code",
   "execution_count": null,
   "metadata": {},
   "outputs": [],
   "source": []
  }
 ],
 "metadata": {
  "kernelspec": {
   "display_name": "Python 3",
   "language": "python",
   "name": "python3"
  },
  "language_info": {
   "codemirror_mode": {
    "name": "ipython",
    "version": 3
   },
   "file_extension": ".py",
   "mimetype": "text/x-python",
   "name": "python",
   "nbconvert_exporter": "python",
   "pygments_lexer": "ipython3",
   "version": "3.7.4"
  }
 },
 "nbformat": 4,
 "nbformat_minor": 2
}
